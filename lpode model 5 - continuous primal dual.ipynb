{
 "cells": [
  {
   "cell_type": "code",
   "execution_count": 3,
   "id": "2e52564a-fdea-4bf5-8384-97e51dbd98ce",
   "metadata": {},
   "outputs": [],
   "source": [
    "#Sort out the variables so they are consistent, i.e. does x[1]=x1=xS1?\n",
    "#PART 1: setting up our functions and importing our modules:\n",
    "from swiglpk import *\n",
    "import matplotlib.pyplot as plt\n",
    "import numpy as np\n",
    "from scikits.odes import dae"
   ]
  },
  {
   "cell_type": "code",
   "execution_count": 12,
   "id": "d05d430e-3f37-409a-9db8-b7acb6ef6df9",
   "metadata": {},
   "outputs": [
    {
     "name": "stdout",
     "output_type": "stream",
     "text": [
      "\n",
      "Z = 800; x1 = 33.3333; x2 = 66.6667; x3 = 0\n",
      "GLPK Simplex Optimizer 5.0\n",
      "3 rows, 3 columns, 9 non-zeros\n",
      "*     0: obj =  -0.000000000e+00 inf =   0.000e+00 (3)\n",
      "*     2: obj =   8.000000000e+02 inf =   0.000e+00 (0)\n",
      "OPTIMAL LP SOLUTION FOUND\n",
      "\n",
      "[3, 4, 5]\n",
      "0.4488164495798992\n",
      "[3, 5, 6]\n",
      "GLPK Simplex Optimizer 5.0\n",
      "3 rows, 3 columns, 9 non-zeros\n",
      "*     2: obj =   5.039731019e+02 inf =   0.000e+00 (1)\n",
      "*     3: obj =   5.039732866e+02 inf =   0.000e+00 (0)\n",
      "OPTIMAL LP SOLUTION FOUND\n",
      "0.49926691628063424\n",
      "[1, 5, 6]\n",
      "0.6485991694343151\n",
      "[1, 4, 6]\n",
      "GLPK Simplex Optimizer 5.0\n",
      "3 rows, 3 columns, 9 non-zeros\n",
      "*     3: obj =   4.799998113e+02 inf =   0.000e+00 (1)\n",
      "*     4: obj =   4.799998666e+02 inf =   0.000e+00 (0)\n",
      "OPTIMAL LP SOLUTION FOUND\n",
      "GLPK Simplex Optimizer 5.0\n",
      "3 rows, 3 columns, 9 non-zeros\n",
      "*     4: obj =   4.375818831e+02 inf =   0.000e+00 (1)\n",
      "*     5: obj =   4.375820301e+02 inf =   0.000e+00 (0)\n",
      "OPTIMAL LP SOLUTION FOUND\n",
      "1.3620255173439144\n",
      "[1, 3, 6]\n",
      "2.0\n",
      "GLPK Simplex Optimizer 5.0\n",
      "3 rows, 3 columns, 9 non-zeros\n",
      "      5: obj =   4.800000920e+02 inf =   1.000e-05 (1)\n",
      "      6: obj =   4.800000000e+02 inf =   0.000e+00 (0)\n",
      "OPTIMAL LP SOLUTION FOUND\n",
      "GLPK Simplex Optimizer 5.0\n",
      "3 rows, 3 columns, 9 non-zeros\n",
      "*     6: obj =   4.800000000e+02 inf =   0.000e+00 (0)\n",
      "OPTIMAL LP SOLUTION FOUND\n"
     ]
    }
   ],
   "source": [
    "#%timeit\n",
    "#PART 2: initialising variables we will use later\n",
    "t=0\n",
    "tmax=2\n",
    "y=1\n",
    "#h=0.0005\n",
    "steps=100\n",
    "v=1\n",
    "ub = [100.0,600.0,300.0,0,0,0]\n",
    "epsilon = 1e-5\n",
    "troot = 0\n",
    "T = []\n",
    "x1out = np.array([])\n",
    "x2out = np.array([])\n",
    "x3out = np.array([])\n",
    "Zout = np.array([])\n",
    "yout = np.array([])\n",
    "feasible = True\n",
    "bl = [0,0,0,0,0,0]\n",
    "ind = intArray(1+3)\n",
    "val = doubleArray(1+3)\n",
    "x = [0,0,0,0,0,0]\n",
    "cinit = [0,0,0,10.0,7.0,4.0]\n",
    "c = cinit.copy()\n",
    "Zp = []\n",
    "x1p = []\n",
    "x2p = []\n",
    "x3p = []\n",
    "\n",
    "#PART 3: setting up and solving our initial unchanged problem for the optimal basis the first time\n",
    "ia = intArray(1+1000); ja = intArray(1+1000);\n",
    "ar = doubleArray(1+1000);\n",
    "lp = glp_create_prob();\n",
    "glp_set_prob_name(lp, \"sample\");\n",
    "glp_set_obj_dir(lp, GLP_MAX); #Set the objective direction\n",
    "glp_add_rows(lp, 3); #add rows\n",
    "n = glp_get_num_rows(lp) #the number of nonbasic variables is the number of rows\n",
    "glp_set_row_name(lp, 1, \"p\");\n",
    "glp_set_row_bnds(lp, 1, GLP_UP, 0.0, ub[0]);\n",
    "glp_set_row_name(lp, 2, \"q\");\n",
    "glp_set_row_bnds(lp, 2, GLP_UP, 0.0, ub[1]);\n",
    "glp_set_row_name(lp, 3, \"r\");\n",
    "glp_set_row_bnds(lp, 3, GLP_UP, 0.0, ub[2]);\n",
    "glp_add_cols(lp, 3); #add columns\n",
    "m = glp_get_num_cols(lp) #the number of basic variables is the number of columns\n",
    "glp_set_col_name(lp, 1, \"x1\");\n",
    "glp_set_col_bnds(lp, 1, GLP_LO, 0.0, 0.0);\n",
    "glp_set_obj_coef(lp, 1, c[3]);\n",
    "glp_set_col_name(lp, 2, \"x2\");\n",
    "glp_set_col_bnds(lp, 2, GLP_LO, 0.0, 0.0);\n",
    "glp_set_obj_coef(lp, 2, c[4]);\n",
    "glp_set_col_name(lp, 3, \"x3\");\n",
    "glp_set_col_bnds(lp, 3, GLP_LO, 0.0, 0.0);\n",
    "glp_set_obj_coef(lp, 3, c[5]);\n",
    "ia[1] = 1; ja[1] = 1; ar[1] = 1.0; # a[1,1] = 1\n",
    "ia[2] = 1; ja[2] = 2; ar[2] = 1.0; # a[1,2] = 1\n",
    "ia[3] = 1; ja[3] = 3; ar[3] = 1.0; # a[1,3] = 1\n",
    "ia[4] = 2; ja[4] = 1; ar[4] = 10.0; # a[2,1] = 10\n",
    "ia[5] = 3; ja[5] = 1; ar[5] = 2.0; # a[3,1] = 2\n",
    "ia[6] = 2; ja[6] = 2; ar[6] = 4.0; # a[2,2] = 4\n",
    "ia[7] = 3; ja[7] = 2; ar[7] = 2.0; # a[3,2] = 2\n",
    "ia[8] = 2; ja[8] = 3; ar[8] = 5.0; # a[2,3] = 5\n",
    "ia[9] = 3; ja[9] = 3; ar[9] = 6.0; # a[3,3] = 6\n",
    "glp_load_matrix(lp, 9, ia, ja, ar);\n",
    "glp_simplex(lp, None);\n",
    "Z = glp_get_obj_val(lp);\n",
    "Zmax = Z\n",
    "x1 = glp_get_col_prim(lp, 1);\n",
    "x[3] = x1\n",
    "x2 = glp_get_col_prim(lp, 2);\n",
    "x[4] = x2\n",
    "x3 = glp_get_col_prim(lp, 3);\n",
    "x[5] = x3\n",
    "x4 = glp_get_row_prim(lp, 1);\n",
    "x[0] = x4\n",
    "x5 = glp_get_row_prim(lp, 2);\n",
    "x[1] = x5\n",
    "x6 = glp_get_row_prim(lp, 3);\n",
    "x[2] = x6\n",
    "print(\"\\nZ = %g; x1 = %g; x2 = %g; x3 = %g\\n\" % (Z, x1, x2, x3))\n",
    "\n",
    "#LOOP:\n",
    "while t < tmax:\n",
    "    #PART 4: finding out which variables are basic/non-basic upper/lower\n",
    "    basis = []\n",
    "    upper = []\n",
    "    lower = []\n",
    "    for j in range(0,3):\n",
    "        bl[j] = glp_get_row_stat(lp,j+1)\n",
    "            \n",
    "    for j in range(0,3):\n",
    "        bl[j+3] = glp_get_col_stat(lp,j+1)\n",
    "\n",
    "    for j in range(0,6): #had to change this from model 3 since we are in python 3.7 and there is no match case\n",
    "        if bl[j] == 0:\n",
    "            print(\"error\")\n",
    "        \n",
    "        elif bl[j] == 1:\n",
    "            basis = basis + [j+1]\n",
    "\n",
    "        elif bl[j] == 2:\n",
    "            lower = lower + [j+1]\n",
    "\n",
    "        elif bl[j] == 3:\n",
    "            upper = upper + [j+1]\n",
    "\n",
    "    nonbasic = upper + lower\n",
    "    nonbasic.sort()\n",
    "    print(basis)\n",
    "    #PART 5a: extracting data from simplex tableau so we can calculate xB = E * xN later\n",
    "    ind = intArray(1+3) #initialise indexes\n",
    "    val = doubleArray(1+3) #initialise values\n",
    "    lengths = [0,0,0] #initialise lengths\n",
    "    indlist = [] #initialise index list\n",
    "    vallist = [] #initialise value list\n",
    "    d = [0,0,0,0,0,0]\n",
    "    for j in range(0,m): #for each basic variable\n",
    "        indcopy = []\n",
    "        valcopy = []\n",
    "        leng = glp_eval_tab_row(lp,basis[j],ind,val) #receives the values of the coefficients and their indices\n",
    "        lengths[j] = leng #stores the number of coefficients\n",
    "        for k in range(0,leng):\n",
    "            indc = ind[k+1]\n",
    "            valc = val[k+1]\n",
    "            indcopy = indcopy + [indc]\n",
    "            valcopy = valcopy + [valc]\n",
    "        indlist.append(indcopy) #stores the indices\n",
    "        vallist.append(valcopy) #stores the values\n",
    "\n",
    "    #PART 5b: transposing the tableau for use later\n",
    "    indT = []\n",
    "    indTlist = []\n",
    "    lengthsT = []\n",
    "    for j in range(0,len(indlist)):\n",
    "        for k in range(0,n):\n",
    "            if nonbasic[j] in indlist[k]:\n",
    "                indT = indT + [nonbasic[k]]\n",
    "        indTlist.append(indT)\n",
    "        lengthsT = lengthsT + [len(indT)]\n",
    "        indT = []\n",
    "       \n",
    "    #PART 6: solving the DAE continuously\n",
    "    initX = x + [Z,y] + c #x1,x2,x3,x4,x5,x6,z,y (x + z,y + c)\n",
    "    initXp = [0,0,0,0,0,0] + [0,-v*y] + [0,0,0,0,0,0]\n",
    "    tin = np.linspace(troot, tmax, steps + 1 - len(T)) #just do 101 - len(T)\n",
    "    \n",
    "    def reseqn(tin, X, Xdot, result):\n",
    "        # we create residual equations for the problem\n",
    "        #nonbasic lower variables\n",
    "        for j in lower:\n",
    "            result[j-1] = X[j-1]\n",
    "            \n",
    "        #nonbasic upper variables\n",
    "        for j in upper:\n",
    "            result[j-1] = ub[j-1] - X[j-1]\n",
    "    \n",
    "        #basic variables\n",
    "        for j in range(0,m):\n",
    "            result[basis[j]-1] = -X[basis[j]-1]\n",
    "            for k in range(0,lengths[j]):\n",
    "                result[basis[j]-1] += X[indlist[j][k]-1]*vallist[j][k]\n",
    "    \n",
    "        #objective function\n",
    "        result[6] = X[11]*X[3] + X[12]*X[4] + X[13]*X[5] - X[6]\n",
    "        \n",
    "        #objective coefficients\n",
    "        result[8] = X[8]\n",
    "        result[9] = X[9]\n",
    "        result[10] = X[10]\n",
    "        result[11] = X[11] - cinit[3]\n",
    "        result[12] = X[12] - cinit[4]*X[7] #DIFFERENTIAL\n",
    "        result[13] = X[13] - cinit[5]/X[7] #DIFFERENTIAL\n",
    "        \n",
    "        #differential components\n",
    "        if 2 in upper:\n",
    "            result[1] = ub[1]*X[7] - X[1]\n",
    "        \n",
    "        result[7] = X[7]*X[6] / Zmax + Xdot[7]\n",
    "        \n",
    "    def rootfind(tin,X,Xdot,result):\n",
    "        #primal feasibility for basic variables\n",
    "        for j in range(0,m):\n",
    "            result[j] = X[basis[j]-1] + epsilon\n",
    "            \n",
    "        #dual feasibility\n",
    "        for j in range(0,n): #d = cN + psiT * cB, here we add cN\n",
    "            result[m+j] = X[nonbasic[j]+7]\n",
    "            if nonbasic[j] in upper: #working\n",
    "                result[m+j] += epsilon\n",
    "            elif nonbasic[j] in lower: #not working\n",
    "                result[m+j] -= epsilon\n",
    "            else:\n",
    "                print(\"nonbasic/upper/lower error\")\n",
    "\n",
    "        for j in range(0,n): #here we add psiT * cB\n",
    "            K=0\n",
    "            for k in range(0,n):\n",
    "                if nonbasic[j] in indTlist[k]:\n",
    "                    result[m+k] += X[basis[j]+7]*vallist[j][K]\n",
    "                    K=K+1\n",
    "\n",
    "    \n",
    "    solver = dae('ida', reseqn, atol=1e-12, rtol=1e-10, rootfn=rootfind, nr_rootfns = m+n)\n",
    "    result = solver.solve(tin, initX, initXp)\n",
    "    \n",
    "    #PART 7: store relevant values\n",
    "    try:\n",
    "        troot = result.roots.t.item()\n",
    "        x1outroot = result.roots.y[0,3]\n",
    "        x2outroot = result.roots.y[0,4]\n",
    "        x3outroot = result.roots.y[0,5]\n",
    "        Zoutroot = result.roots.y[0,6]\n",
    "        y = result.roots.y[-1,7]\n",
    "        youtroot = y\n",
    "        v = result.roots.y[-1,6]/Zmax\n",
    "    except:\n",
    "        t = tmax + 1 #CHANGE THIS\n",
    "        troot = []\n",
    "        x1outroot = []\n",
    "        x2outroot = []\n",
    "        x3outroot = []\n",
    "        Zoutroot = []\n",
    "        youtroot = []\n",
    "        \n",
    "        \n",
    "    T = np.append(np.append(T,result.values.t),troot)\n",
    "    x1out = np.append(np.append(x1out,result.values.y[:, 3]),x1outroot)\n",
    "    x2out = np.append(np.append(x2out,result.values.y[:, 4]),x2outroot)\n",
    "    x3out = np.append(np.append(x3out,result.values.y[:, 5]),x3outroot)\n",
    "    Zout = np.append(np.append(Zout,result.values.y[:,6]),Zoutroot)\n",
    "    yout = np.append(np.append(yout,result.values.y[:,7]),youtroot)\n",
    "    \n",
    "    #PART 8: rerunning our simplex method to find a new optimal basis\n",
    "    #This is what we change:\n",
    "    glp_set_row_bnds(lp, 2, GLP_UP, 0.0, ub[1]*y)\n",
    "    c[4] = cinit[4]*y\n",
    "    c[5] = cinit[5]/y\n",
    "    glp_set_obj_coef(lp,2,c[4])\n",
    "    glp_set_obj_coef(lp,3,c[5])\n",
    "    \n",
    "    glp_load_matrix(lp,9,ia,ja,ar)\n",
    "    glp_simplex(lp,None)\n",
    "    Z = glp_get_obj_val(lp)\n",
    "    x[3] = glp_get_col_prim(lp,1) #these are to get our plotting to work correctly\n",
    "    x[4] = glp_get_col_prim(lp,2)\n",
    "    x[5] = glp_get_col_prim(lp,3)\n",
    "    x[0] = glp_get_row_prim(lp,1)\n",
    "    x[1] = glp_get_row_prim(lp,2)\n",
    "    x[2] = glp_get_row_prim(lp,3)\n",
    "    feasible = True #we reset feasible to be true again\n",
    "    print(T[-1])\n",
    "#use knowledge of basic variables to find updated solution\n",
    "#check updated solution is primal feasible\n",
    "#if it isn't end loop\n",
    "#find new optimal solution"
   ]
  },
  {
   "cell_type": "code",
   "execution_count": 13,
   "id": "0486e3fd",
   "metadata": {},
   "outputs": [
    {
     "data": {
      "image/png": "[encoded data removed]",
      "text/plain": [
       "<Figure size 640x480 with 1 Axes>"
      ]
     },
     "metadata": {},
     "output_type": "display_data"
    }
   ],
   "source": [
    "import matplotlib.pyplot as plt\n",
    "plt.plot(T, x1out, 'r', label='x1')\n",
    "plt.plot(T, x2out, 'g', label='x2')\n",
    "plt.plot(T, x3out, 'b', label='x3')\n",
    "plt.legend(loc='best')\n",
    "plt.xlabel('t')\n",
    "plt.grid()\n",
    "plt.show()"
   ]
  },
  {
   "cell_type": "code",
   "execution_count": 14,
   "id": "ee60cf92-1e70-474c-8b1c-a09a20d78a2a",
   "metadata": {},
   "outputs": [
    {
     "data": {
      "text/plain": [
       "Text(0, 0.5, 'Value')"
      ]
     },
     "execution_count": 14,
     "metadata": {},
     "output_type": "execute_result"
    },
    {
     "data": {
      "image/png": "[encoded data removed]",
      "text/plain": [
       "<Figure size 500x300 with 1 Axes>"
      ]
     },
     "metadata": {},
     "output_type": "display_data"
    }
   ],
   "source": [
    "fig, ax = plt.subplots(figsize=(5, 3), layout='constrained')\n",
    "linesz = ax.plot(T,Zout,label=\"Z\")\n",
    "ax.set_xlabel(\"Time\")\n",
    "ax.set_ylabel(\"Value\")"
   ]
  },
  {
   "cell_type": "code",
   "execution_count": 5,
   "id": "b5627d76",
   "metadata": {},
   "outputs": [
    {
     "data": {
      "text/plain": [
       "Text(0, 0.5, 'y Value')"
      ]
     },
     "execution_count": 5,
     "metadata": {},
     "output_type": "execute_result"
    },
    {
     "data": {
      "image/png": "[encoded data removed]",
      "text/plain": [
       "<Figure size 500x300 with 1 Axes>"
      ]
     },
     "metadata": {},
     "output_type": "display_data"
    }
   ],
   "source": [
    "fig, ax = plt.subplots(figsize=(5, 3), layout='constrained')\n",
    "linesz = ax.plot(T,yout, 'g',label=\"y\")\n",
    "ax.set_xlabel(\"Time\")\n",
    "ax.set_ylabel(\"y Value\")"
   ]
  },
  {
   "cell_type": "code",
   "execution_count": 6,
   "id": "f9371c5a",
   "metadata": {},
   "outputs": [],
   "source": [
    "for j in range(0,n): #d = cN + psiT * cB, here we add cN\n",
    "    d[nonbasic[j]-1] = c[nonbasic[j]-1]\n",
    "\n",
    "for j in range(0,n): #here we add psiT * cB\n",
    "    K=0\n",
    "    for k in range(0,n):\n",
    "        if nonbasic[j] in indTlist[k]:\n",
    "            d[nonbasic[K]-1] += c[basis[j]-1]*vallist[j][K]\n",
    "            K=K+1\n",
    "\n",
    "for j in upper: #each d must be >= 0 for upper and <= 0 for lower\n",
    "    if d[j-1] < 0:\n",
    "        feasible = False\n",
    "        print(\"upper\")\n",
    "            \n",
    "for j in lower:\n",
    "    if d[j-1] > 0:\n",
    "        feasible = False\n",
    "        print(\"lower\")"
   ]
  },
  {
   "cell_type": "code",
   "execution_count": 7,
   "id": "67104d7d",
   "metadata": {},
   "outputs": [
    {
     "data": {
      "text/plain": [
       "[4, 6]"
      ]
     },
     "execution_count": 7,
     "metadata": {},
     "output_type": "execute_result"
    }
   ],
   "source": [
    "lower"
   ]
  },
  {
   "cell_type": "code",
   "execution_count": 8,
   "id": "c9ea73fd",
   "metadata": {},
   "outputs": [
    {
     "data": {
      "text/plain": [
       "[2, 4, 6]"
      ]
     },
     "execution_count": 8,
     "metadata": {},
     "output_type": "execute_result"
    }
   ],
   "source": [
    "nonbasic"
   ]
  }
 ],
 "metadata": {
  "kernelspec": {
   "display_name": "Python 3 (ipykernel)",
   "language": "python",
   "name": "python3"
  },
  "language_info": {
   "codemirror_mode": {
    "name": "ipython",
    "version": 3
   },
   "file_extension": ".py",
   "mimetype": "text/x-python",
   "name": "python",
   "nbconvert_exporter": "python",
   "pygments_lexer": "ipython3",
   "version": "3.7.12"
  }
 },
 "nbformat": 4,
 "nbformat_minor": 5
}
