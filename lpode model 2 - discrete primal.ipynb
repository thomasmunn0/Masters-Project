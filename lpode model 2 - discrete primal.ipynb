{
 "cells": [
  {
   "cell_type": "code",
   "execution_count": 2,
   "id": "2e52564a-fdea-4bf5-8384-97e51dbd98ce",
   "metadata": {},
   "outputs": [],
   "source": [
    "#Sort out the variables so they are consistent, i.e. does x[1]=x1=xS1?\n",
    "#PART 1: setting up our functions and importing our modules:\n",
    "import swiglpk\n",
    "from swiglpk import *\n",
    "import matplotlib.pyplot as plt\n",
    "\n",
    "def myfunction(t,y,v):\n",
    "    return -v * y\n",
    "\n",
    "def rungekutta(t,y,h,v):\n",
    "    k1 = h * myfunction(t,y,v)\n",
    "    k2 = h * myfunction(t + h * 0.5, y + k1 * 0.5,v)\n",
    "    k3 = h * myfunction(t + h/2, y + k2 * 0.5,v) \n",
    "    k4 = h * myfunction(t + h, y + k3,v)\n",
    "    y = y + (1.0 / 6.0) * (k1 + 2 * k2 + 2 * k3 + k4)\n",
    "    t = t + h\n",
    "    return t,y"
   ]
  },
  {
   "cell_type": "code",
   "execution_count": 6,
   "id": "d05d430e-3f37-409a-9db8-b7acb6ef6df9",
   "metadata": {},
   "outputs": [
    {
     "name": "stdout",
     "output_type": "stream",
     "text": [
      "\n",
      "Z = 733.333; x1 = 33.3333; x2 = 66.6667; x3 = 0\n",
      "GLPK Simplex Optimizer 5.0\n",
      "3 rows, 3 columns, 9 non-zeros\n",
      "\n",
      "*     0: obj =  -0.000000000e+00 inf =   0.000e+00 (3)\n",
      "*     2: obj =   7.333333333e+02 inf =   0.000e+00 (0)\n",
      "OPTIMAL LP SOLUTION FOUND\n",
      "0.45050000000000034\n",
      "GLPK Simplex Optimizer 5.0\n",
      "3 rows, 3 columns, 9 non-zeros\n",
      "      2: obj =   5.999994620e+02 inf =   1.345e-04 (1)\n",
      "      3: obj =   5.999987895e+02 inf =   0.000e+00 (0)\n",
      "OPTIMAL LP SOLUTION FOUND\n",
      "2.0004999999998354\n",
      "GLPK Simplex Optimizer 5.0\n",
      "3 rows, 3 columns, 9 non-zeros\n",
      "*     3: obj =   2.645092838e+02 inf =   0.000e+00 (0)\n",
      "OPTIMAL LP SOLUTION FOUND\n"
     ]
    }
   ],
   "source": [
    "#PART 2: initialising variables we will use later\n",
    "t=0\n",
    "tmax=2\n",
    "y=1\n",
    "h=0.0005\n",
    "feasible = True\n",
    "bl = [0,0,0,0,0,0]\n",
    "ind = intArray(1+3)\n",
    "val = doubleArray(1+3)\n",
    "x = [0,0,0,0,0,0]\n",
    "Zp = []\n",
    "x1p = []\n",
    "x2p = []\n",
    "x3p = []\n",
    "\n",
    "#PART 3: setting up and solving our initial unchanged problem for the optimal basis the first time\n",
    "ia = intArray(1+1000); ja = intArray(1+1000);\n",
    "ar = doubleArray(1+1000);\n",
    "lp = glp_create_prob();\n",
    "glp_set_prob_name(lp, \"sample\");\n",
    "glp_set_obj_dir(lp, GLP_MAX); #Set the objective direction\n",
    "glp_add_rows(lp, 3);\n",
    "glp_set_row_name(lp, 1, \"p\");\n",
    "glp_set_row_bnds(lp, 1, GLP_UP, 0.0, 100.0);\n",
    "glp_set_row_name(lp, 2, \"q\");\n",
    "glp_set_row_bnds(lp, 2, GLP_UP, 0.0, 600.0);\n",
    "glp_set_row_name(lp, 3, \"r\");\n",
    "glp_set_row_bnds(lp, 3, GLP_UP, 0.0, 300.0);\n",
    "glp_add_cols(lp, 3);\n",
    "glp_set_col_name(lp, 1, \"x1\");\n",
    "glp_set_col_bnds(lp, 1, GLP_LO, 0.0, 0.0);\n",
    "glp_set_obj_coef(lp, 1, 10.0);\n",
    "glp_set_col_name(lp, 2, \"x2\");\n",
    "glp_set_col_bnds(lp, 2, GLP_LO, 0.0, 0.0);\n",
    "glp_set_obj_coef(lp, 2, 6.0);\n",
    "glp_set_col_name(lp, 3, \"x3\");\n",
    "glp_set_col_bnds(lp, 3, GLP_LO, 0.0, 0.0);\n",
    "glp_set_obj_coef(lp, 3, 4.0);\n",
    "ia[1] = 1; ja[1] = 1; ar[1] = 1.0; # a[1,1] = 1\n",
    "ia[2] = 1; ja[2] = 2; ar[2] = 1.0; # a[1,2] = 1\n",
    "ia[3] = 1; ja[3] = 3; ar[3] = 1.0; # a[1,3] = 1\n",
    "ia[4] = 2; ja[4] = 1; ar[4] = 10.0; # a[2,1] = 10\n",
    "ia[5] = 3; ja[5] = 1; ar[5] = 2.0; # a[3,1] = 2\n",
    "ia[6] = 2; ja[6] = 2; ar[6] = 4.0; # a[2,2] = 4\n",
    "ia[7] = 3; ja[7] = 2; ar[7] = 2.0; # a[3,2] = 2\n",
    "ia[8] = 2; ja[8] = 3; ar[8] = 5.0; # a[2,3] = 5\n",
    "ia[9] = 3; ja[9] = 3; ar[9] = 6.0; # a[3,3] = 6\n",
    "glp_load_matrix(lp, 9, ia, ja, ar);\n",
    "glp_simplex(lp, None);\n",
    "Z = glp_get_obj_val(lp);\n",
    "Zmax = Z\n",
    "x1 = glp_get_col_prim(lp, 1);\n",
    "x[3] = x1\n",
    "x2 = glp_get_col_prim(lp, 2);\n",
    "x[4] = x2\n",
    "x3 = glp_get_col_prim(lp, 3);\n",
    "x[5] = x3\n",
    "print(\"\\nZ = %g; x1 = %g; x2 = %g; x3 = %g\\n\" % (Z, x1, x2, x3))\n",
    "\n",
    "#LOOP:\n",
    "while t < tmax:\n",
    "    #PART 4: finding out which variables are basic/non-basic upper/lower\n",
    "    basis = []\n",
    "    upper = []\n",
    "    lower = []\n",
    "    for j in range(0,3):\n",
    "        bl[j] = glp_get_row_stat(lp,j+1)\n",
    "            \n",
    "    for j in range(0,3):\n",
    "        bl[j+3] = glp_get_col_stat(lp,j+1)\n",
    "\n",
    "    for j in range(0,6):\n",
    "        match bl[j]:\n",
    "            case 0:\n",
    "                print(\"error\")\n",
    "\n",
    "            case 1:\n",
    "                basis = basis + [j+1]\n",
    "\n",
    "            case 2:\n",
    "                lower = lower + [j+1]\n",
    "\n",
    "            case 3:\n",
    "                upper = upper + [j+1]\n",
    "\n",
    "    #PART 5: extracting data from simplex tableau so we can calculate xB = E * xN later\n",
    "    ind = intArray(1+3) #initialise indexes\n",
    "    val = doubleArray(1+3) #initialise values\n",
    "    lengths = [0,0,0] #initialise lengths\n",
    "    indlist = [] #initialise index list\n",
    "    vallist = [] #initialise value list\n",
    "    for j in range(0,len(basis)): #for each basic variable\n",
    "        indcopy = []\n",
    "        valcopy = []\n",
    "        leng = glp_eval_tab_row(lp,basis[j],ind,val) #receives the values of the coefficients and their indices\n",
    "        lengths[j] = leng #stores the number of coefficients\n",
    "        for k in range(0,leng):\n",
    "            indc = ind[k+1]\n",
    "            valc = val[k+1]\n",
    "            indcopy = indcopy + [indc]\n",
    "            valcopy = valcopy + [valc]\n",
    "        indlist.append(indcopy) #stores the indices\n",
    "        vallist.append(valcopy) #stores the values\n",
    "        \n",
    "    #LOOP:            \n",
    "    while feasible and t<tmax:\n",
    "        #BONUS: storing data for plotting\n",
    "        Zp = Zp + [Z]\n",
    "        x1p = x1p + [x[3]]\n",
    "        x2p = x2p + [x[4]]\n",
    "        x3p = x3p + [x[5]]\n",
    "        #PART 6: run runge-kutta method and update our bounds\n",
    "        v=Z/Zmax\n",
    "        t,y = rungekutta(t,y,h,v)\n",
    "        glp_set_row_bnds(lp, 2, GLP_UP, 0.0, 600.0*y); #This is us changing the bounds\n",
    "        \n",
    "        #PART 7: calculating our new x and objective value\n",
    "        for j in upper:\n",
    "            if j <= 3:\n",
    "                x[j-1] = glp_get_row_ub(lp,j)\n",
    "            else:\n",
    "                x[j-1] = glp_get_col_ub(lp,j-3)\n",
    "\n",
    "        \n",
    "        for j in lower:\n",
    "            if j <= 3:\n",
    "                x[j-1] = glp_get_row_lb(lp,j)\n",
    "            else:\n",
    "                x[j-1] = glp_get_col_lb(lp,j-3)\n",
    "\n",
    "\n",
    "        for j in range(0,len(basis)):\n",
    "            x[basis[j]-1] = 0\n",
    "            for k in range(0,lengths[j]):\n",
    "                x[basis[j]-1] += x[indlist[j][k]-1]*vallist[j][k]\n",
    "\n",
    "        Z = 10 * x[3] + 6 * x[4] + 4 * x[5]\n",
    "\n",
    "        #PART 8: checking if our new x is feasible, ending the loop if not\n",
    "        for j in range(0,len(x)):\n",
    "            if x[j] < 0:\n",
    "                feasible = False\n",
    "            elif j <= 2: #2 for 0,1,2 rows\n",
    "                if x[j] > glp_get_row_ub(lp,j+1):\n",
    "                    feasible = False\n",
    "            elif j >= 3: #3 for 3,4,5 columns\n",
    "                if x[j] > glp_get_row_ub(lp,j-2): #j-2 = 1,2,3\n",
    "                    feasible = False\n",
    "            else:\n",
    "                print(\"feasible is true\")\n",
    "                \n",
    "    #end while\n",
    "    #PART 9: rerunning our simplex method to find a new optimal basis\n",
    "    glp_load_matrix(lp,9,ia,ja,ar)\n",
    "    glp_simplex(lp,None)\n",
    "    Z = glp_get_obj_val(lp)\n",
    "    x[3] = glp_get_col_prim(lp,1) #these are to get our plotting to work correctly\n",
    "    x[4] = glp_get_col_prim(lp,2)\n",
    "    x[5] = glp_get_col_prim(lp,3)\n",
    "    feasible = True #we reset feasible to be true again\n",
    "    print(t)\n",
    "#use knowledge of basic variables to find updated solution\n",
    "#check updated solution is primal feasible\n",
    "#if it isn't end loop\n",
    "#find new optimal solution"
   ]
  },
  {
   "cell_type": "code",
   "execution_count": 8,
   "id": "ca3a99e3-7f0e-4f25-8fbe-95576b56373a",
   "metadata": {},
   "outputs": [],
   "source": [
    "#Need to run this before plotting for the first time, sets up the x-axis\n",
    "tp = []\n",
    "for i in range(0,len(x1p)):\n",
    "    tp = tp + [i*h]"
   ]
  },
  {
   "cell_type": "code",
   "execution_count": 10,
   "id": "0b44780f-faeb-4d0f-81a0-7c529d38f733",
   "metadata": {},
   "outputs": [
    {
     "data": {
      "text/plain": [
       "Text(0, 0.5, 'Value')"
      ]
     },
     "execution_count": 10,
     "metadata": {},
     "output_type": "execute_result"
    },
    {
     "data": {
      "image/png": "[encoded data removed]",
      "text/plain": [
       "<Figure size 500x300 with 1 Axes>"
      ]
     },
     "metadata": {},
     "output_type": "display_data"
    }
   ],
   "source": [
    "fig, ax = plt.subplots(figsize=(5, 3), layout='constrained')\n",
    "linesx1 = ax.plot(tp,x1p,\"r\",label=\"x1\")\n",
    "linesx2 = ax.plot(tp,x2p,\"g\",label=\"x2\")\n",
    "linesx3 = ax.plot(tp,x3p,\"b\",label=\"x3\")\n",
    "plt.legend()\n",
    "ax.set_xlabel(\"Time\")\n",
    "ax.set_ylabel(\"Value\")"
   ]
  },
  {
   "cell_type": "code",
   "execution_count": 12,
   "id": "ee60cf92-1e70-474c-8b1c-a09a20d78a2a",
   "metadata": {},
   "outputs": [
    {
     "data": {
      "text/plain": [
       "Text(0, 0.5, 'Value')"
      ]
     },
     "execution_count": 12,
     "metadata": {},
     "output_type": "execute_result"
    },
    {
     "data": {
      "image/png": "[encoded data removed]",
      "text/plain": [
       "<Figure size 500x300 with 1 Axes>"
      ]
     },
     "metadata": {},
     "output_type": "display_data"
    }
   ],
   "source": [
    "fig, ax = plt.subplots(figsize=(5, 3), layout='constrained')\n",
    "linesz = ax.plot(tp,Zp,label=\"Z\")\n",
    "ax.set_xlabel(\"Time\")\n",
    "ax.set_ylabel(\"Value\")"
   ]
  }
 ],
 "metadata": {
  "kernelspec": {
   "display_name": "Python 3 (ipykernel)",
   "language": "python",
   "name": "python3"
  },
  "language_info": {
   "codemirror_mode": {
    "name": "ipython",
    "version": 3
   },
   "file_extension": ".py",
   "mimetype": "text/x-python",
   "name": "python",
   "nbconvert_exporter": "python",
   "pygments_lexer": "ipython3",
   "version": "3.12.4"
  }
 },
 "nbformat": 4,
 "nbformat_minor": 5
}
